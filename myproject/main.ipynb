{
 "cells": [
  {
   "cell_type": "code",
   "execution_count": 39,
   "metadata": {},
   "outputs": [],
   "source": [
    "import pandas as pd\n",
    "from sarimax import SarimaxDengModel\n",
    "from prophet_model import ProphetDengModel"
   ]
  },
  {
   "cell_type": "code",
   "execution_count": 40,
   "metadata": {},
   "outputs": [],
   "source": [
    "def load_data(datapath: str = \"../data/\") -> pd.DataFrame:\n",
    "    train_data = pd.read_csv(datapath + \"dengue_features_train.csv\")\n",
    "    train_label = pd.read_csv(datapath + \"dengue_labels_train.csv\")\n",
    "    dataset = train_data.merge(\n",
    "        train_label, how=\"inner\", on=[\"city\", \"year\", \"weekofyear\"]\n",
    "    )\n",
    "    return dataset\n",
    "\n",
    "\n",
    "def filter_city_data(data: pd.DataFrame, city_name: str) -> pd.DataFrame:\n",
    "    return data[data.city == city_name]\n",
    "\n",
    "\n",
    "data = load_data()\n",
    "sj_data = filter_city_data(data, city_name=\"sj\")\n",
    "iq_data = filter_city_data(data, city_name=\"iq\")"
   ]
  },
  {
   "cell_type": "markdown",
   "metadata": {},
   "source": []
  },
  {
   "cell_type": "code",
   "execution_count": null,
   "metadata": {},
   "outputs": [],
   "source": [
    "# sj_prophet = ProphetDengModel(data = sj_data, city_name= 'sj', test_period=0)\n",
    "# sj_prophet.train_models(get_model_summary=False,\n",
    "#                         run_param_search=True)"
   ]
  },
  {
   "cell_type": "code",
   "execution_count": null,
   "metadata": {},
   "outputs": [],
   "source": [
    "# sj_prophet.generate_submission_file()"
   ]
  },
  {
   "cell_type": "code",
   "execution_count": null,
   "metadata": {},
   "outputs": [],
   "source": [
    "def load_test_data(datapath: str = \"../data/\") -> pd.DataFrame:\n",
    "    test_data = pd.read_csv(datapath + \"dengue_features_test.csv\", parse_dates=[3])\n",
    "    return test_data\n",
    "\n",
    "\n",
    "test_data = load_test_data()\n",
    "test_data = test_data.loc[test_data.city == \"sj\", :]\n",
    "# test_data.loc[test_data.city=='sj', :].shape\n",
    "future_dates = sj_prophet.model_fit.make_future_dataframe(260)\n",
    "# future_dates.rename(columns = {'ds':'week_start_date'}, inplace = True)\n",
    "# test_data = test_data.merge(future_dates, how = 'inner', left_on = 'week_start_date' ,\n",
    "#                             right_on = 'ds')\n",
    "test_data.fillna(0, inplace=True)\n",
    "test_data.rename(columns={\"week_start_date\": \"ds\"}, inplace=True)"
   ]
  },
  {
   "cell_type": "code",
   "execution_count": null,
   "metadata": {},
   "outputs": [],
   "source": [
    "# future_dates = sj_prophet.model_fit.make_future_dataframe(260)\n",
    "pred_data = sj_prophet.model_fit.predict(test_data)\n",
    "pred_data.shape"
   ]
  },
  {
   "cell_type": "code",
   "execution_count": null,
   "metadata": {},
   "outputs": [],
   "source": [
    "test_data.shape"
   ]
  },
  {
   "cell_type": "code",
   "execution_count": null,
   "metadata": {},
   "outputs": [],
   "source": [
    "pred_data.yhat"
   ]
  },
  {
   "cell_type": "code",
   "execution_count": null,
   "metadata": {},
   "outputs": [],
   "source": [
    "pd.concat([sj_data, iq_data])"
   ]
  },
  {
   "cell_type": "code",
   "execution_count": null,
   "metadata": {},
   "outputs": [],
   "source": []
  },
  {
   "cell_type": "code",
   "execution_count": null,
   "metadata": {},
   "outputs": [],
   "source": [
    "SjModel = SarimaxDengModel(data=data, city_name=\"sj\", test_period=0)\n",
    "SjModel.train_models(run_param_search=True)\n",
    "# SjModel.generate_submission_file()"
   ]
  },
  {
   "cell_type": "code",
   "execution_count": null,
   "metadata": {},
   "outputs": [],
   "source": [
    "submission_file = SjModel.generate_submission_file()\n",
    "submission_file"
   ]
  },
  {
   "cell_type": "code",
   "execution_count": null,
   "metadata": {},
   "outputs": [],
   "source": [
    "# def load_test_data(datapath:str=\"../data/\") -> pd.DataFrame:\n",
    "#     test_data = pd.read_csv(datapath+\"dengue_features_test.csv\", parse_dates=[3])\n",
    "#     return test_data\n",
    "# test_data = load_test_data()\n",
    "# EXOGENOUS_VARS = [\n",
    "#     \"ndvi_ne\",\n",
    "#     \"ndvi_nw\",\n",
    "#     \"ndvi_se\",\n",
    "#     \"ndvi_sw\",\n",
    "#     \"precipitation_amt_mm\",\n",
    "#     \"reanalysis_air_temp_k\",\n",
    "#     \"reanalysis_avg_temp_k\",\n",
    "#     \"reanalysis_dew_point_temp_k\",\n",
    "#     \"reanalysis_max_air_temp_k\",\n",
    "#     \"reanalysis_min_air_temp_k\",\n",
    "#     \"reanalysis_precip_amt_kg_per_m2\",\n",
    "#     \"reanalysis_relative_humidity_percent\",\n",
    "#     \"reanalysis_sat_precip_amt_mm\",\n",
    "#     \"reanalysis_specific_humidity_g_per_kg\",\n",
    "#     \"reanalysis_tdtr_k\",\n",
    "#     \"station_avg_temp_c\",\n",
    "#     \"station_diur_temp_rng_c\",\n",
    "#     \"station_max_temp_c\",\n",
    "#     \"station_min_temp_c\",\n",
    "#     \"station_precip_mm\",\n",
    "# ]\n",
    "# test_data = test_data.fillna(0)\n",
    "\n",
    "# result = SjModel.model_fit.get_forecast(steps = len(test_data), exog= test_data[EXOGENOUS_VARS])"
   ]
  },
  {
   "cell_type": "code",
   "execution_count": null,
   "metadata": {},
   "outputs": [],
   "source": []
  },
  {
   "cell_type": "code",
   "execution_count": null,
   "metadata": {},
   "outputs": [],
   "source": []
  },
  {
   "cell_type": "code",
   "execution_count": 41,
   "metadata": {},
   "outputs": [
    {
     "name": "stdout",
     "output_type": "stream",
     "text": [
      "ADF Statistic: -6.085428681900052\n",
      "p-value: 1.0672522948401876e-07\n",
      "p-value less than 0.05, series likely stationary\n"
     ]
    },
    {
     "data": {
      "application/json": {
       "ascii": false,
       "bar_format": null,
       "colour": null,
       "elapsed": 0.020797014236450195,
       "initial": 0,
       "n": 0,
       "ncols": null,
       "nrows": null,
       "postfix": null,
       "prefix": "",
       "rate": null,
       "total": 1,
       "unit": "it",
       "unit_divisor": 1000,
       "unit_scale": false
      },
      "application/vnd.jupyter.widget-view+json": {
       "model_id": "2e8e2838b9654ae38e21f4e3f9291b75",
       "version_major": 2,
       "version_minor": 0
      },
      "text/plain": [
       "  0%|          | 0/1 [00:00<?, ?it/s]"
      ]
     },
     "metadata": {},
     "output_type": "display_data"
    },
    {
     "name": "stdout",
     "output_type": "stream",
     "text": [
      "(0, 1, 0, 0, 0, 0)\n"
     ]
    },
    {
     "name": "stderr",
     "output_type": "stream",
     "text": [
      "/Users/linlincheng/.pyenv/versions/3.9.7/lib/python3.9/site-packages/statsmodels/tsa/base/tsa_model.py:471: ValueWarning: An unsupported index was provided and will be ignored when e.g. forecasting.\n",
      "  self._init_dates(dates, freq)\n",
      "/Users/linlincheng/.pyenv/versions/3.9.7/lib/python3.9/site-packages/statsmodels/tsa/base/tsa_model.py:471: ValueWarning: An unsupported index was provided and will be ignored when e.g. forecasting.\n",
      "  self._init_dates(dates, freq)\n"
     ]
    },
    {
     "name": "stdout",
     "output_type": "stream",
     "text": [
      "                    0            1\n",
      "0  (0, 1, 0, 0, 0, 0)  3604.303692\n",
      "        (p,d,q,P,D,Q)          AIC\n",
      "0  (0, 1, 0, 0, 0, 0)  3604.303692\n",
      "(0, 1, 0, 0, 0, 0)\n"
     ]
    },
    {
     "name": "stderr",
     "output_type": "stream",
     "text": [
      "/Users/linlincheng/.pyenv/versions/3.9.7/lib/python3.9/site-packages/statsmodels/tsa/base/tsa_model.py:471: ValueWarning: An unsupported index was provided and will be ignored when e.g. forecasting.\n",
      "  self._init_dates(dates, freq)\n",
      "/Users/linlincheng/.pyenv/versions/3.9.7/lib/python3.9/site-packages/statsmodels/tsa/base/tsa_model.py:471: ValueWarning: An unsupported index was provided and will be ignored when e.g. forecasting.\n",
      "  self._init_dates(dates, freq)\n"
     ]
    }
   ],
   "source": [
    "iq_data = filter_city_data(iq_data, city_name=\"iq\")\n",
    "IqModel = SarimaxDengModel(data=iq_data, city_name=\"iq\", test_period=0)\n",
    "IqModel.train_models(run_param_search=True)\n",
    "# IqModel.generate_submission_file()"
   ]
  },
  {
   "cell_type": "code",
   "execution_count": 42,
   "metadata": {},
   "outputs": [
    {
     "name": "stdout",
     "output_type": "stream",
     "text": [
      "520    2.699612\n",
      "521    5.448726\n",
      "522    3.531888\n",
      "523    1.215200\n",
      "524    5.842999\n",
      "         ...   \n",
      "671    4.750090\n",
      "672    3.795446\n",
      "673    3.061483\n",
      "674    5.684845\n",
      "675    3.146158\n",
      "Name: predicted_mean, Length: 156, dtype: float64\n",
      "(156, 25)\n",
      "(156, 25)\n",
      "   index city  year  weekofyear week_start_date   ndvi_ne   ndvi_nw   ndvi_se  \\\n",
      "0    260   iq  2010          26      2010-07-02  0.183783  0.142500  0.225129   \n",
      "1    261   iq  2010          27      2010-07-09  0.291657  0.272267  0.330700   \n",
      "2    262   iq  2010          28      2010-07-16  0.208543  0.366457  0.212629   \n",
      "3    263   iq  2010          29      2010-07-23  0.089286  0.063214  0.122057   \n",
      "4    264   iq  2010          30      2010-07-30  0.306100  0.327683  0.250086   \n",
      "\n",
      "    ndvi_sw  precipitation_amt_mm  ...  reanalysis_precip_amt_kg_per_m2  \\\n",
      "0  0.150214                 82.29  ...                            34.11   \n",
      "1  0.320914                 25.30  ...                             9.10   \n",
      "2  0.255514                 62.14  ...                            61.09   \n",
      "3  0.081957                 47.80  ...                            19.60   \n",
      "4  0.267914                 56.30  ...                            18.93   \n",
      "\n",
      "   reanalysis_relative_humidity_percent  reanalysis_sat_precip_amt_mm  \\\n",
      "0                             92.581429                         82.29   \n",
      "1                             83.885714                         25.30   \n",
      "2                             92.057143                         62.14   \n",
      "3                             88.970000                         47.80   \n",
      "4                             78.610000                         56.30   \n",
      "\n",
      "   reanalysis_specific_humidity_g_per_kg  reanalysis_tdtr_k  \\\n",
      "0                              17.654286           9.428571   \n",
      "1                              16.320000          10.157143   \n",
      "2                              18.030000           9.557143   \n",
      "3                              15.394286           7.828571   \n",
      "4                              15.468571          11.771429   \n",
      "\n",
      "   station_avg_temp_c  station_diur_temp_rng_c  station_max_temp_c  \\\n",
      "0              27.440                   10.760                33.8   \n",
      "1              27.025                    9.625                33.0   \n",
      "2              26.950                   10.350                33.4   \n",
      "3              26.900                    9.700                33.3   \n",
      "4              27.050                   11.850                33.5   \n",
      "\n",
      "   station_min_temp_c  station_precip_mm  \n",
      "0                21.5               11.2  \n",
      "1                21.2                8.9  \n",
      "2                21.6               22.6  \n",
      "3                14.2                4.8  \n",
      "4                16.9                3.0  \n",
      "\n",
      "[5 rows x 25 columns]\n"
     ]
    },
    {
     "name": "stderr",
     "output_type": "stream",
     "text": [
      "/Users/linlincheng/.pyenv/versions/3.9.7/lib/python3.9/site-packages/statsmodels/tsa/base/tsa_model.py:834: ValueWarning: No supported index is available. Prediction results will be given with an integer index beginning at `start`.\n",
      "  return get_prediction_index(\n"
     ]
    },
    {
     "data": {
      "text/html": [
       "<div>\n",
       "<style scoped>\n",
       "    .dataframe tbody tr th:only-of-type {\n",
       "        vertical-align: middle;\n",
       "    }\n",
       "\n",
       "    .dataframe tbody tr th {\n",
       "        vertical-align: top;\n",
       "    }\n",
       "\n",
       "    .dataframe thead th {\n",
       "        text-align: right;\n",
       "    }\n",
       "</style>\n",
       "<table border=\"1\" class=\"dataframe\">\n",
       "  <thead>\n",
       "    <tr style=\"text-align: right;\">\n",
       "      <th></th>\n",
       "      <th>city</th>\n",
       "      <th>year</th>\n",
       "      <th>weekofyear</th>\n",
       "      <th>forecast</th>\n",
       "    </tr>\n",
       "  </thead>\n",
       "  <tbody>\n",
       "    <tr>\n",
       "      <th>0</th>\n",
       "      <td>iq</td>\n",
       "      <td>2010</td>\n",
       "      <td>26</td>\n",
       "      <td>3</td>\n",
       "    </tr>\n",
       "    <tr>\n",
       "      <th>1</th>\n",
       "      <td>iq</td>\n",
       "      <td>2010</td>\n",
       "      <td>27</td>\n",
       "      <td>5</td>\n",
       "    </tr>\n",
       "    <tr>\n",
       "      <th>2</th>\n",
       "      <td>iq</td>\n",
       "      <td>2010</td>\n",
       "      <td>28</td>\n",
       "      <td>4</td>\n",
       "    </tr>\n",
       "    <tr>\n",
       "      <th>3</th>\n",
       "      <td>iq</td>\n",
       "      <td>2010</td>\n",
       "      <td>29</td>\n",
       "      <td>1</td>\n",
       "    </tr>\n",
       "    <tr>\n",
       "      <th>4</th>\n",
       "      <td>iq</td>\n",
       "      <td>2010</td>\n",
       "      <td>30</td>\n",
       "      <td>6</td>\n",
       "    </tr>\n",
       "    <tr>\n",
       "      <th>...</th>\n",
       "      <td>...</td>\n",
       "      <td>...</td>\n",
       "      <td>...</td>\n",
       "      <td>...</td>\n",
       "    </tr>\n",
       "    <tr>\n",
       "      <th>151</th>\n",
       "      <td>iq</td>\n",
       "      <td>2013</td>\n",
       "      <td>22</td>\n",
       "      <td>5</td>\n",
       "    </tr>\n",
       "    <tr>\n",
       "      <th>152</th>\n",
       "      <td>iq</td>\n",
       "      <td>2013</td>\n",
       "      <td>23</td>\n",
       "      <td>4</td>\n",
       "    </tr>\n",
       "    <tr>\n",
       "      <th>153</th>\n",
       "      <td>iq</td>\n",
       "      <td>2013</td>\n",
       "      <td>24</td>\n",
       "      <td>3</td>\n",
       "    </tr>\n",
       "    <tr>\n",
       "      <th>154</th>\n",
       "      <td>iq</td>\n",
       "      <td>2013</td>\n",
       "      <td>25</td>\n",
       "      <td>6</td>\n",
       "    </tr>\n",
       "    <tr>\n",
       "      <th>155</th>\n",
       "      <td>iq</td>\n",
       "      <td>2013</td>\n",
       "      <td>26</td>\n",
       "      <td>3</td>\n",
       "    </tr>\n",
       "  </tbody>\n",
       "</table>\n",
       "<p>156 rows × 4 columns</p>\n",
       "</div>"
      ],
      "text/plain": [
       "    city  year  weekofyear  forecast\n",
       "0     iq  2010          26         3\n",
       "1     iq  2010          27         5\n",
       "2     iq  2010          28         4\n",
       "3     iq  2010          29         1\n",
       "4     iq  2010          30         6\n",
       "..   ...   ...         ...       ...\n",
       "151   iq  2013          22         5\n",
       "152   iq  2013          23         4\n",
       "153   iq  2013          24         3\n",
       "154   iq  2013          25         6\n",
       "155   iq  2013          26         3\n",
       "\n",
       "[156 rows x 4 columns]"
      ]
     },
     "execution_count": 42,
     "metadata": {},
     "output_type": "execute_result"
    },
    {
     "data": {
      "image/png": "[encoded data removed]",
      "text/plain": [
       "<Figure size 640x480 with 1 Axes>"
      ]
     },
     "metadata": {},
     "output_type": "display_data"
    }
   ],
   "source": [
    "IqModel.generate_submission_file()"
   ]
  },
  {
   "cell_type": "code",
   "execution_count": null,
   "metadata": {},
   "outputs": [],
   "source": []
  },
  {
   "cell_type": "code",
   "execution_count": null,
   "metadata": {},
   "outputs": [],
   "source": []
  }
 ],
 "metadata": {
  "kernelspec": {
   "display_name": "Python 3.9.7 64-bit ('3.9.7')",
   "language": "python",
   "name": "python3"
  },
  "language_info": {
   "codemirror_mode": {
    "name": "ipython",
    "version": 3
   },
   "file_extension": ".py",
   "mimetype": "text/x-python",
   "name": "python",
   "nbconvert_exporter": "python",
   "pygments_lexer": "ipython3",
   "version": "3.9.7"
  },
  "orig_nbformat": 4,
  "vscode": {
   "interpreter": {
    "hash": "43836b50a4bb742ad069d810ffecaa493c20a1d94b410e2b59f7ef175110708b"
   }
  }
 },
 "nbformat": 4,
 "nbformat_minor": 2
}
